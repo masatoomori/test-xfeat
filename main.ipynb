{
 "cells": [
  {
   "cell_type": "markdown",
   "metadata": {},
   "source": [
    "参考: https://acro-engineer.hatenablog.com/entry/2020/12/15/120000"
   ]
  },
  {
   "cell_type": "code",
   "execution_count": null,
   "metadata": {},
   "outputs": [],
   "source": [
    "import pandas as pd\n",
    "import optuna\n",
    "import xfeat"
   ]
  },
  {
   "cell_type": "code",
   "execution_count": null,
   "metadata": {},
   "outputs": [],
   "source": [
    "df_train = pd.read_csv('./data/train.csv')\n",
    "df_test = pd.read_csv('./data/test.csv')"
   ]
  },
  {
   "cell_type": "code",
   "execution_count": null,
   "metadata": {},
   "outputs": [],
   "source": [
    "# 学習データとテストデータをまとめる\n",
    "df_all = pd.concat([df_train, df_test], axis=0)\n",
    "df_all"
   ]
  },
  {
   "cell_type": "code",
   "execution_count": null,
   "metadata": {},
   "outputs": [],
   "source": [
    "# カテゴリデータを抽出する\n",
    "xfeat.SelectCategorical().fit_transform(df_all)"
   ]
  },
  {
   "cell_type": "code",
   "execution_count": null,
   "metadata": {},
   "outputs": [],
   "source": [
    "# 数値データを抽出する\n",
    "xfeat.SelectNumerical().fit_transform(df_all)"
   ]
  },
  {
   "cell_type": "code",
   "execution_count": null,
   "metadata": {},
   "outputs": [],
   "source": [
    "# 数値の型をカテゴリに変換すると、カテゴリ変数として認識される\n",
    "df_all['Pclass'] = df_all['Pclass'].astype('category')\n",
    "xfeat.SelectCategorical().fit_transform(df_all).columns"
   ]
  },
  {
   "cell_type": "code",
   "execution_count": null,
   "metadata": {},
   "outputs": [],
   "source": [
    "# ラベルエンコーディング\n",
    "# suffixに何か指定すると、元のデータも残る\n",
    "encoder = xfeat.Pipeline([\n",
    "\txfeat.SelectCategorical(exclude_cols=['Name', 'Ticket']),\n",
    "\txfeat.LabelEncoder(output_suffix='_le'),\n",
    "])\n",
    "\n",
    "df_le = encoder.fit_transform(df_all)\n",
    "df_le"
   ]
  },
  {
   "cell_type": "code",
   "execution_count": null,
   "metadata": {},
   "outputs": [],
   "source": [
    "# 複数のカテゴリ変数を組み合わせる\n",
    "encoder = xfeat.Pipeline([\n",
    "\txfeat.SelectCategorical(exclude_cols=['Name', 'Ticket']),\n",
    "\txfeat.ConcatCombination(output_suffix='_cc', r=2),\n",
    "])\n",
    "\n",
    "encoder.fit_transform(df_le)"
   ]
  }
 ],
 "metadata": {
  "interpreter": {
   "hash": "2aa01245b23ff84cf25a21ddb0f26f31323dfea56fc5de2df04ae8b337929edd"
  },
  "kernelspec": {
   "display_name": "Python 3.9.5 ('venv': venv)",
   "language": "python",
   "name": "python3"
  },
  "language_info": {
   "codemirror_mode": {
    "name": "ipython",
    "version": 3
   },
   "file_extension": ".py",
   "mimetype": "text/x-python",
   "name": "python",
   "nbconvert_exporter": "python",
   "pygments_lexer": "ipython3",
   "version": "3.9.5"
  },
  "orig_nbformat": 4
 },
 "nbformat": 4,
 "nbformat_minor": 2
}
