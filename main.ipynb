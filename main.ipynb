{
 "cells": [
  {
   "cell_type": "markdown",
   "metadata": {},
   "source": [
    "参考: https://acro-engineer.hatenablog.com/entry/2020/12/15/120000"
   ]
  },
  {
   "cell_type": "code",
   "execution_count": null,
   "metadata": {},
   "outputs": [],
   "source": [
    "from functools import partial\n",
    "\n",
    "import pandas as pd\n",
    "from sklearn.model_selection import KFold\n",
    "import xfeat\n",
    "import lightgbm as lgb\n",
    "import optuna"
   ]
  },
  {
   "cell_type": "code",
   "execution_count": null,
   "metadata": {},
   "outputs": [],
   "source": [
    "df_train = pd.read_csv('./data/train.csv')\n",
    "df_test = pd.read_csv('./data/test.csv')"
   ]
  },
  {
   "cell_type": "code",
   "execution_count": null,
   "metadata": {},
   "outputs": [],
   "source": [
    "# 学習データとテストデータをまとめる\n",
    "df_all = pd.concat([df_train, df_test], axis=0)\n",
    "df_all"
   ]
  },
  {
   "cell_type": "code",
   "execution_count": null,
   "metadata": {},
   "outputs": [],
   "source": [
    "# カテゴリデータを抽出する\n",
    "xfeat.SelectCategorical().fit_transform(df_all)"
   ]
  },
  {
   "cell_type": "code",
   "execution_count": null,
   "metadata": {},
   "outputs": [],
   "source": [
    "# 数値データを抽出する\n",
    "xfeat.SelectNumerical().fit_transform(df_all)"
   ]
  },
  {
   "cell_type": "code",
   "execution_count": null,
   "metadata": {},
   "outputs": [],
   "source": [
    "# 数値の型をカテゴリに変換すると、カテゴリ変数として認識される\n",
    "df_all['Pclass'] = df_all['Pclass'].astype('category')\n",
    "xfeat.SelectCategorical().fit_transform(df_all).columns"
   ]
  },
  {
   "cell_type": "code",
   "execution_count": null,
   "metadata": {},
   "outputs": [],
   "source": [
    "# ラベルエンコーディング\n",
    "# suffixに何か指定すると、元のデータも残る\n",
    "encoder = xfeat.Pipeline([\n",
    "\txfeat.SelectCategorical(exclude_cols=['Name', 'Ticket']),\n",
    "\txfeat.LabelEncoder(output_suffix='_le'),\n",
    "])\n",
    "\n",
    "df_le = encoder.fit_transform(df_all)\n",
    "df_le"
   ]
  },
  {
   "cell_type": "code",
   "execution_count": null,
   "metadata": {},
   "outputs": [],
   "source": [
    "# ラベルエンコーディング\n",
    "# 同じエンコーダを使ってもデータが違えば同じ値でも違う値にエンコードされる\n",
    "df_le = encoder.fit_transform(df_test)\t\t# 上の例では全体データを用いた\n",
    "df_le"
   ]
  },
  {
   "cell_type": "code",
   "execution_count": null,
   "metadata": {},
   "outputs": [],
   "source": [
    "# 重要度に基づく特徴量選択用にデータを作成する\n",
    "df_train_le = pd.merge(df_train.drop(['Sex', 'Cabin', 'Embarked', 'Name', 'Ticket'], axis=1), df_le.drop(['Sex', 'Cabin', 'Embarked'], axis=1), how='right', left_index=True, right_index=True)\n",
    "df_train_le"
   ]
  },
  {
   "cell_type": "code",
   "execution_count": null,
   "metadata": {},
   "outputs": [],
   "source": [
    "# Target Encoding\n",
    "# Target Encodingの説明はhttps://www.codexa.net/target_encoding/が参考になる\n",
    "fold = KFold(n_splits=5, shuffle=False)\n",
    "encoder = xfeat.TargetEncoder(\n",
    "\tinput_cols=['Cabin'],\n",
    "\ttarget_col='Survived',\n",
    "\tfold=fold,\n",
    "\toutput_suffix='_te',\n",
    ")\n",
    "\n",
    "df_te = encoder.fit_transform(df_train)\t\t\t# 学習データでやること\n",
    "df_te"
   ]
  },
  {
   "cell_type": "code",
   "execution_count": null,
   "metadata": {},
   "outputs": [],
   "source": [
    "# 重要度に基づく特徴量選択用にデータを作成する\n",
    "df_train_le = pd.merge(df_train_le, df_te[['Cabin_te']], how='left', left_index=True, right_index=True)\n",
    "df_train_le"
   ]
  },
  {
   "cell_type": "code",
   "execution_count": null,
   "metadata": {},
   "outputs": [],
   "source": [
    "# 複数のカテゴリ変数を組み合わせる\n",
    "encoder = xfeat.Pipeline([\n",
    "\txfeat.SelectCategorical(exclude_cols=['Name', 'Ticket']),\n",
    "\txfeat.ConcatCombination(output_suffix='_cc', r=2),\n",
    "])\n",
    "\n",
    "# category型のままだとエラーになるのでstr型に変換する\n",
    "encoder.fit_transform(xfeat.SelectCategorical().fit_transform(df_all).astype(str))"
   ]
  },
  {
   "cell_type": "code",
   "execution_count": null,
   "metadata": {},
   "outputs": [],
   "source": [
    "# 数値データの加算をする\n",
    "encoder = xfeat.Pipeline([\n",
    "\txfeat.SelectNumerical(),\n",
    "\txfeat.ArithmeticCombinations(\n",
    "\t\tinput_cols=['SibSp', 'Parch'],\n",
    "\t\toutput_suffix='_sum',\n",
    "\t\toperator='+',\n",
    "\t\tr=2\n",
    "\t\t),\n",
    "])\n",
    "\n",
    "encoder.fit_transform(df_all)"
   ]
  },
  {
   "cell_type": "code",
   "execution_count": null,
   "metadata": {},
   "outputs": [],
   "source": [
    "# 数値データの減算をする\n",
    "encoder = xfeat.Pipeline([\n",
    "\txfeat.SelectNumerical(),\n",
    "\txfeat.ArithmeticCombinations(\n",
    "\t\tinput_cols=['SibSp', 'Parch'],\t\t# 前から後を引く\n",
    "\t\toutput_suffix='_diff',\n",
    "\t\toperator='-',\n",
    "\t\tr=2\n",
    "\t\t),\n",
    "])\n",
    "\n",
    "encoder.fit_transform(df_all)"
   ]
  },
  {
   "cell_type": "code",
   "execution_count": null,
   "metadata": {},
   "outputs": [],
   "source": [
    "# 軸別の集計をし、その属性に当てはまるレコードの列に追加する\n",
    "# df: 元のデータに列が追加されたもの\n",
    "# cols: 新しく追加された列の名前\n",
    "df, cols = xfeat.aggregation(\n",
    "\tdf_all,\n",
    "\tgroup_key='Sex',\t\t# 複数を軸にすることはできない\n",
    "\tgroup_values=['Age', 'Fare'],\n",
    "\tagg_methods=['mean', 'max', 'min', 'std']\n",
    ")"
   ]
  },
  {
   "cell_type": "code",
   "execution_count": null,
   "metadata": {},
   "outputs": [],
   "source": [
    "df"
   ]
  },
  {
   "cell_type": "code",
   "execution_count": null,
   "metadata": {},
   "outputs": [],
   "source": [
    "cols"
   ]
  },
  {
   "cell_type": "code",
   "execution_count": null,
   "metadata": {},
   "outputs": [],
   "source": [
    "# 集計値確認\n",
    "df_all.groupby('Sex').describe()"
   ]
  },
  {
   "cell_type": "code",
   "execution_count": null,
   "metadata": {},
   "outputs": [],
   "source": [
    "# LightGBMの特徴量重要度に合わせた選択\n",
    "lgbm_params = {\n",
    "\t'objective': 'binary',\n",
    "\t'metric': 'binary_error'\n",
    "}\n",
    "fit_kwargs = {\n",
    "\t'num_boost_round': 10\n",
    "}\n",
    "\n",
    "selector = xfeat.GBDTFeatureSelector(\n",
    "\ttarget_col='Survived',\n",
    "\tthreshold=0.5,\t\t\t\t# 選択される変数の割合\n",
    "\tlgbm_params=lgbm_params,\n",
    "\tlgbm_fit_kwargs=fit_kwargs,\n",
    ")\n",
    "selector.fit_transform(df_train_le)"
   ]
  },
  {
   "cell_type": "code",
   "execution_count": null,
   "metadata": {},
   "outputs": [],
   "source": [
    "# optunaと組み合わせる\n",
    "lgbm_params = {\n",
    "\t'objective': 'binary',\n",
    "\t'metric': 'binary_error',\n",
    "\t'verbosity': -1,\n",
    "}\n",
    "\n",
    "def objective(df, selector, trial):\n",
    "    selector.set_trial(trial)\n",
    "    selector.fit(df)\n",
    "    input_cols = selector.get_selected_cols()\n",
    "\n",
    "    # Hyper Parameter Tuning するパラメータと範囲を設定する\n",
    "    lgbm_params = {\n",
    "        'num_leaves': trial.suggest_int(\"num_leaves\", 3, 10),\n",
    "        'max_depth': trial.suggest_int(\"max_depth\", 3, 10),\n",
    "    }\n",
    "    lgbm_params.update(lgbm_params)\n",
    "\n",
    "    # Evaluate with selected columns\n",
    "    train_set = lgb.Dataset(df[input_cols], label=df[\"Survived\"])\n",
    "    scores = lgb.cv(lgbm_params, train_set, num_boost_round=100, stratified=False, seed=1)\n",
    "\n",
    "    binary_error_score = scores['l2-mean'][-1]\n",
    "    return 1 - binary_error_score\n",
    "\n",
    "\n",
    "# 特徴量探索のための説明変数を設定する\n",
    "input_cols = list(df_train_le.columns)\n",
    "input_cols.remove('Survived')\n",
    "\n",
    "# 特徴量探索器を作成する\n",
    "selector = xfeat.GBDTFeatureExplorer(\n",
    "    input_cols=input_cols,\n",
    "    target_col=\"Survived\",\n",
    "    fit_once=True,\n",
    "    threshold_range=(0.8, 1.0),\n",
    "    lgbm_params=lgbm_params,\n",
    ")\n",
    "\n",
    "# Hyper Parameter Tuning を行う\n",
    "study = optuna.create_study(direction=\"minimize\")\n",
    "study.optimize(partial(objective, df_train_le, selector), n_trials=100)\n",
    "\n",
    "# 選択された特徴量を確認する\n",
    "selector.from_trial(study.best_trial)\n",
    "print(\"Selected columns:\", selector.get_selected_cols())"
   ]
  },
  {
   "cell_type": "code",
   "execution_count": null,
   "metadata": {},
   "outputs": [],
   "source": [
    "study.best_params"
   ]
  },
  {
   "cell_type": "code",
   "execution_count": null,
   "metadata": {},
   "outputs": [],
   "source": [
    "study.best_value"
   ]
  }
 ],
 "metadata": {
  "interpreter": {
   "hash": "2aa01245b23ff84cf25a21ddb0f26f31323dfea56fc5de2df04ae8b337929edd"
  },
  "kernelspec": {
   "display_name": "Python 3.9.5 ('venv': venv)",
   "language": "python",
   "name": "python3"
  },
  "language_info": {
   "codemirror_mode": {
    "name": "ipython",
    "version": 3
   },
   "file_extension": ".py",
   "mimetype": "text/x-python",
   "name": "python",
   "nbconvert_exporter": "python",
   "pygments_lexer": "ipython3",
   "version": "3.9.5"
  },
  "orig_nbformat": 4
 },
 "nbformat": 4,
 "nbformat_minor": 2
}
